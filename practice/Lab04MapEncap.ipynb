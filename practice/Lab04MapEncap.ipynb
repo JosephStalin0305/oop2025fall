{
 "cells": [
  {
   "cell_type": "markdown",
   "id": "24631fc7-70a9-4afb-81f0-89f08c82cc98",
   "metadata": {},
   "source": [
    "# Map 활용 및 Encapsulation 개념 관련 실습"
   ]
  },
  {
   "cell_type": "markdown",
   "id": "aa298faa-0151-4007-93eb-c560f40ecb03",
   "metadata": {},
   "source": [
    "- 이름: 박용성\n",
    "- 학번: 20200597"
   ]
  },
  {
   "cell_type": "markdown",
   "id": "fb6f9db5-55bd-4eba-9a8a-2883e06eabc5",
   "metadata": {},
   "source": [
    "---"
   ]
  },
  {
   "cell_type": "code",
   "execution_count": 1,
   "id": "0588eb7a-3b3b-4061-9c36-276ce173c431",
   "metadata": {},
   "outputs": [],
   "source": [
    "// 학생 레코드의 구성 요소는 학번과 이름\n",
    "record Student(int id, String name) { }"
   ]
  },
  {
   "cell_type": "code",
   "execution_count": 2,
   "id": "35d36757-1b27-485d-975e-3085863c8426",
   "metadata": {},
   "outputs": [],
   "source": [
    "class School {\n",
    "    // 학번을 key로 학생 레코드 값을 value로 하는 Map\n",
    "    private final HashMap<Integer, Student> students;\n",
    "\n",
    "    // studetns를 빈 가변 맵으로 초기화시키는 적절한 생성자 작성\n",
    "    School() {\n",
    "        students = new HashMap<>(); // null 말고 다른 것으로 적절히 초기화\n",
    "    }\n",
    "    \n",
    "    // add or update a student\n",
    "    public void update(Student s) {\n",
    "        // s가 null이면 적절현 예외 발생시켜야.\n",
    "        // 아직 등록된 학번이 아니면 새로 추가하고\n",
    "        // 이미 등록된 학번의 학생이면 레코드 업데이트\n",
    "        Objects.requireNonNull(s);\n",
    "        this.students.put(s.id(), s);\n",
    "    }\n",
    "\n",
    "    // 학생 Map에 대한 참조를 리턴하는 메소드\n",
    "    public Map<Integer, Student> getStudents() { return students; }\n",
    "\n",
    "    @Override\n",
    "    public String toString() { return \"School: \" + students.toString(); }\n",
    "}"
   ]
  },
  {
   "cell_type": "markdown",
   "id": "dec38e7d-15db-4330-b579-98dda307c292",
   "metadata": {},
   "source": [
    "주석에 안내된 대로 School 클래스의 생성자와 update 메소드를 적절히 작성한 다음,\n",
    "현재의 School 클래스가 설계가 Encapsulation을 만족하지 못하는 예시를 아래에 작성해 보라."
   ]
  },
  {
   "cell_type": "code",
   "execution_count": 3,
   "id": "586f542f-bd7e-4c89-9ec0-35f510e6b914",
   "metadata": {},
   "outputs": [],
   "source": [
    "var school = new School();"
   ]
  },
  {
   "cell_type": "code",
   "execution_count": 4,
   "id": "ead9a311-9239-448d-8d44-f5d8f25ad139",
   "metadata": {},
   "outputs": [],
   "source": [
    "school.update(new Student(100, \"김철수\"));\n",
    "school.update(new Student(101, \"이영희\"));\n",
    "school.update(new Student(103, \"홍길동\"));\n",
    "school.update(new Student(201, \"김연아\"));\n",
    "school.update(new Student(202, \"손흥민\"));\n",
    "school.update(new Student(203, \"권상우\"));"
   ]
  },
  {
   "cell_type": "code",
   "execution_count": 5,
   "id": "38c7e454-c129-4c1f-81a3-793c664a7e84",
   "metadata": {},
   "outputs": [
    {
     "ename": "EvalException",
     "evalue": "",
     "output_type": "error",
     "traceback": [
      "\u001b[0m\u001b[1m\u001b[31mjava.lang.NullPointerException: null\n\u001b[0m",
      "\u001b[0m\u001b[1m\u001b[34m   at java.base/java.util.Objects.requireNonNull(Objects.java:220)\u001b[0m",
      "\u001b[0m\u001b[1m\u001b[34m   at School.update(#3:15)\u001b[0m",
      "\u001b[0m\u001b[0m\u001b[1m|    class School {\u001b[0m",
      "\u001b[0m\u001b[0m\u001b[1m|        // 학번을 key로 학생 레코드 값을 value로 하는 Map\u001b[0m",
      "\u001b[0m\u001b[0m\u001b[1m|        private final HashMap<Integer, Student> students;\u001b[0m",
      "\u001b[0m\u001b[0m\u001b[1m|    \u001b[0m",
      "\u001b[0m\u001b[0m\u001b[1m|        // studetns를 빈 가변 맵으로 초기화시키는 적절한 생성자 작성\u001b[0m",
      "\u001b[0m\u001b[0m\u001b[1m|        School() {\u001b[0m",
      "\u001b[0m\u001b[0m\u001b[1m|            students = new HashMap<>(); // null 말고 다른 것으로 적절히 초기화\u001b[0m",
      "\u001b[0m\u001b[0m\u001b[1m|        }\u001b[0m",
      "\u001b[0m\u001b[0m\u001b[1m|        \u001b[0m",
      "\u001b[0m\u001b[0m\u001b[1m|        // add or update a student\u001b[0m",
      "\u001b[0m\u001b[0m\u001b[1m|        public void update(Student s) {\u001b[0m",
      "\u001b[0m\u001b[0m\u001b[1m|            // s가 null이면 적절현 예외 발생시켜야.\u001b[0m",
      "\u001b[0m\u001b[0m\u001b[1m|            // 아직 등록된 학번이 아니면 새로 추가하고\u001b[0m",
      "\u001b[0m\u001b[0m\u001b[1m|            // 이미 등록된 학번의 학생이면 레코드 업데이트\u001b[0m",
      "\u001b[0m\u001b[0m\u001b[1m|-->         Objects.requireNonNull(s);\u001b[0m",
      "\u001b[0m\u001b[0m\u001b[1m|            this.students.put(s.id(), s);\u001b[0m",
      "\u001b[0m\u001b[0m\u001b[1m|        }\u001b[0m",
      "\u001b[0m\u001b[0m\u001b[1m|    \u001b[0m",
      "\u001b[0m\u001b[0m\u001b[1m|        // 학생 Map에 대한 참조를 리턴하는 메소드\u001b[0m",
      "\u001b[0m\u001b[0m\u001b[1m|        public Map<Integer, Student> getStudents() { return students; }\u001b[0m",
      "\u001b[0m\u001b[0m\u001b[1m|    \u001b[0m",
      "\u001b[0m\u001b[0m\u001b[1m|        @Override\u001b[0m",
      "\u001b[0m\u001b[0m\u001b[1m|        public String toString() { return \"School: \" + students.toString(); }\u001b[0m",
      "\u001b[0m\u001b[0m\u001b[1m|    }\u001b[0m",
      "\u001b[0m\u001b[1m\u001b[34m   at .(#11:1)\u001b[0m",
      "\u001b[0m\u001b[0m\u001b[1m|--> school.update(null);\u001b[0m"
     ]
    }
   ],
   "source": [
    "school.update(null);"
   ]
  },
  {
   "cell_type": "code",
   "execution_count": 6,
   "id": "a1fa98c1-92d6-4848-8886-8ebddb3e4681",
   "metadata": {},
   "outputs": [
    {
     "data": {
      "text/plain": [
       "School: {100=Student[id=100, name=김철수], 101=Student[id=101, name=이영희], 103=Student[id=103, name=홍길동], 201=Student[id=201, name=김연아], 202=Student[id=202, name=손흥민], 203=Student[id=203, name=권상우]}"
      ]
     },
     "execution_count": 6,
     "metadata": {},
     "output_type": "execute_result"
    }
   ],
   "source": [
    "school"
   ]
  },
  {
   "cell_type": "code",
   "execution_count": 7,
   "id": "e4163962-9ff6-45a4-9141-9f14df76ab03",
   "metadata": {},
   "outputs": [
    {
     "data": {
      "text/plain": [
       "Student[id=201, name=김연아]"
      ]
     },
     "execution_count": 7,
     "metadata": {},
     "output_type": "execute_result"
    }
   ],
   "source": [
    "school.getStudents().remove(201);"
   ]
  },
  {
   "cell_type": "code",
   "execution_count": 8,
   "id": "f00733d8-aa28-4388-8af7-77a09dd601e6",
   "metadata": {},
   "outputs": [
    {
     "data": {
      "text/plain": [
       "School: {100=Student[id=100, name=김철수], 101=Student[id=101, name=이영희], 103=Student[id=103, name=홍길동], 202=Student[id=202, name=손흥민], 203=Student[id=203, name=권상우]}"
      ]
     },
     "execution_count": 8,
     "metadata": {},
     "output_type": "execute_result"
    }
   ],
   "source": [
    "school"
   ]
  }
 ],
 "metadata": {
  "kernelspec": {
   "display_name": "Java (rjk 2.1.0)",
   "language": "java",
   "name": "rapaio-jupyter-kernel"
  },
  "language_info": {
   "codemirror_mode": "java",
   "file_extension": ".jshell",
   "mimetype": "text/x-java-source",
   "name": "java",
   "nbconvert_exporter": "script",
   "pygments_lexer": "java",
   "version": "22.0.2+9"
  }
 },
 "nbformat": 4,
 "nbformat_minor": 5
}
