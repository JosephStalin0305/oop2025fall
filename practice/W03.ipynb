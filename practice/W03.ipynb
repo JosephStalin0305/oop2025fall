{
 "cells": [
  {
   "cell_type": "markdown",
   "id": "1b3492bb-8f70-4dc2-be37-681a63b2e25c",
   "metadata": {},
   "source": [
    "# 03주차 실습\n",
    "class에서 생성자 작성 및 toString, equals 재작성 연습\n",
    "\n",
    "박용성 20200597"
   ]
  },
  {
   "cell_type": "code",
   "execution_count": 1,
   "id": "66cbaece-7ee0-4237-b1ef-03031c21b721",
   "metadata": {},
   "outputs": [],
   "source": [
    "class Light {\n",
    "    String color;\n",
    "    double intensity;\n",
    "\n",
    "    Light(String color, double intensity) {\n",
    "        this.color = color;\n",
    "        this.intensity = intensity;\n",
    "    }\n",
    "\n",
    "    @Override\n",
    "    public boolean equals(Object obj) {\n",
    "        if ( !(obj instanceof Light light)) return false;\n",
    "        return this.color.equals(light.color) && this.intensity == light.intensity;\n",
    "    }\n",
    "\n",
    "    @Override\n",
    "    public String toString() {\n",
    "        return \"color : \" + this.color + \", \" +\n",
    "               \"intensity : \" + this.intensity;\n",
    "    }\n",
    "}"
   ]
  },
  {
   "cell_type": "code",
   "execution_count": 2,
   "id": "d757e5e4-ecf3-413c-b24c-aeeadda5c10d",
   "metadata": {},
   "outputs": [],
   "source": [
    "var light1 = new Light(\"red\", 0.5);\n",
    "var light2 = new Light(\"red\", 0.5);\n",
    "var light3 = new Light(\"green\", 0.25);"
   ]
  },
  {
   "cell_type": "code",
   "execution_count": 3,
   "id": "aca1a208-4c00-4192-8093-e818fb8010f4",
   "metadata": {},
   "outputs": [
    {
     "name": "stdout",
     "output_type": "stream",
     "text": [
      "color : red, intensity : 0.5\n"
     ]
    }
   ],
   "source": [
    "System.out.println(light1);"
   ]
  },
  {
   "cell_type": "code",
   "execution_count": 4,
   "id": "603f25c4-ec76-41cb-8d61-9ddd3374c84d",
   "metadata": {},
   "outputs": [
    {
     "data": {
      "text/plain": [
       "false"
      ]
     },
     "execution_count": 4,
     "metadata": {},
     "output_type": "execute_result"
    }
   ],
   "source": [
    "light1 == light2;"
   ]
  },
  {
   "cell_type": "code",
   "execution_count": 5,
   "id": "3b4505f5-8bfc-4602-aa3c-18e3791563e4",
   "metadata": {},
   "outputs": [
    {
     "data": {
      "text/plain": [
       "true"
      ]
     },
     "execution_count": 5,
     "metadata": {},
     "output_type": "execute_result"
    }
   ],
   "source": [
    "light1.equals(light2);"
   ]
  },
  {
   "cell_type": "code",
   "execution_count": 6,
   "id": "e8ffa93d-09e6-4481-abd8-ba9c25ae806b",
   "metadata": {},
   "outputs": [
    {
     "data": {
      "text/plain": [
       "false"
      ]
     },
     "execution_count": 6,
     "metadata": {},
     "output_type": "execute_result"
    }
   ],
   "source": [
    "light1.equals(light3);"
   ]
  }
 ],
 "metadata": {
  "kernelspec": {
   "display_name": "Java (rjk 2.1.0)",
   "language": "java",
   "name": "rapaio-jupyter-kernel"
  },
  "language_info": {
   "codemirror_mode": "java",
   "file_extension": ".jshell",
   "mimetype": "text/x-java-source",
   "name": "java",
   "nbconvert_exporter": "script",
   "pygments_lexer": "java",
   "version": "22.0.2+9"
  }
 },
 "nbformat": 4,
 "nbformat_minor": 5
}
