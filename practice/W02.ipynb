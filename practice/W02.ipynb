{
 "cells": [
  {
   "cell_type": "markdown",
   "id": "6eae1d62-b79a-465d-b671-eb1e9ce1d429",
   "metadata": {},
   "source": [
    "# 2주차 실습 record의 출력 문자열을 바꿔보기\n",
    "\n",
    "박용성\n",
    "\n",
    "20200597"
   ]
  },
  {
   "cell_type": "code",
   "execution_count": null,
   "id": "21e915fe-9b88-42be-b741-01020b4e26da",
   "metadata": {},
   "outputs": [],
   "source": [
    "record Light(String color, double intensity) {\n",
    "    @Override\n",
    "    public String toString() {\n",
    "        return color + \", \" + intensity;\n",
    "    }\n",
    "}"
   ]
  },
  {
   "cell_type": "code",
   "execution_count": null,
   "id": "b444ae6b-cfed-4b46-8a13-a8ad2327f581",
   "metadata": {},
   "outputs": [
    {
     "data": {
      "text/plain": [
       "red1.0"
      ]
     },
     "execution_count": 3,
     "metadata": {},
     "output_type": "execute_result"
    }
   ],
   "source": [
    "\"red\" + 1.0"
   ]
  },
  {
   "cell_type": "code",
   "execution_count": null,
   "id": "f86e477f-d958-4a60-ae36-a81423f914e5",
   "metadata": {},
   "outputs": [],
   "source": [
    "var light2 = new Light(\"blue\", 0.5);"
   ]
  },
  {
   "cell_type": "code",
   "execution_count": null,
   "id": "df1caca5-d609-44bc-8992-fade3b896fad",
   "metadata": {},
   "outputs": [
    {
     "data": {
      "text/plain": [
       "blue, 0.5"
      ]
     },
     "execution_count": 5,
     "metadata": {},
     "output_type": "execute_result"
    }
   ],
   "source": [
    "light2"
   ]
  }
 ],
 "metadata": {
  "kernelspec": {
   "display_name": "Java (rjk 2.1.0)",
   "language": "java",
   "name": "rapaio-jupyter-kernel"
  },
  "language_info": {
   "codemirror_mode": "java",
   "file_extension": ".jshell",
   "mimetype": "text/x-java-source",
   "name": "java",
   "nbconvert_exporter": "script",
   "pygments_lexer": "java",
   "version": "22.0.2+9"
  }
 },
 "nbformat": 4,
 "nbformat_minor": 5
}
