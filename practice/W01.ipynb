{
 "cells": [
  {
   "cell_type": "markdown",
   "id": "cc443350-6b36-45de-9b38-23b01aab9129",
   "metadata": {},
   "source": [
    "20200597/박용성"
   ]
  },
  {
   "cell_type": "code",
   "execution_count": 1,
   "id": "1dd04e6e-eaf6-4ccb-a1da-f410b3edefd2",
   "metadata": {},
   "outputs": [
    {
     "name": "stdout",
     "output_type": "stream",
     "text": [
      "Hello World\n"
     ]
    }
   ],
   "source": [
    "System.out.println(\"Hello World\");"
   ]
  }
 ],
 "metadata": {
  "kernelspec": {
   "display_name": "Java (rjk 2.1.0)",
   "language": "java",
   "name": "rapaio-jupyter-kernel"
  },
  "language_info": {
   "codemirror_mode": "java",
   "file_extension": ".jshell",
   "mimetype": "text/x-java-source",
   "name": "java",
   "nbconvert_exporter": "script",
   "pygments_lexer": "java",
   "version": "22.0.2+9"
  }
 },
 "nbformat": 4,
 "nbformat_minor": 5
}
